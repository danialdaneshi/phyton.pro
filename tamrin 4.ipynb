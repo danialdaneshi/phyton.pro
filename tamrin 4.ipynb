{
 "cells": [
  {
   "cell_type": "code",
   "execution_count": 8,
   "id": "b9ad0edc-096f-4a4f-9006-751f14d347a5",
   "metadata": {},
   "outputs": [
    {
     "name": "stdout",
     "output_type": "stream",
     "text": [
      "88\n",
      "92\n"
     ]
    }
   ],
   "source": [
    "#tamrin 1\n",
    "def d(x):\n",
    "    if(x>=0):\n",
    "        print(x)\n",
    "    else:\n",
    "        c=x*-1\n",
    "        print(c)\n",
    "d(-88) \n",
    "d(92)"
   ]
  },
  {
   "cell_type": "code",
   "execution_count": 11,
   "id": "9dd1fbf1-a828-4e85-bd18-7cd836222020",
   "metadata": {},
   "outputs": [],
   "source": [
    "#tamrin 2\n",
    "import Math as m\n",
    "def l(a,b):\n",
    "    c=(a**2)+(b**2)\n",
    "    m.sqrt(c)\n",
    "    print(c)"
   ]
  },
  {
   "cell_type": "code",
   "execution_count": 13,
   "id": "5c61737f-6a64-494a-ab85-e9fbccfc402a",
   "metadata": {},
   "outputs": [
    {
     "name": "stdout",
     "output_type": "stream",
     "text": [
      "bakhsh pazir\n",
      "bakhsh pazir nist\n"
     ]
    }
   ],
   "source": [
    "#tamrin 3\n",
    "def bakhsh(x,y):\n",
    "    if(x%y==0):\n",
    "        print(\"bakhsh pazir\")\n",
    "    else:\n",
    "        print(\"bakhsh pazir nist\")\n",
    "bakhsh(8,2)\n",
    "bakhsh(9,2)"
   ]
  },
  {
   "cell_type": "code",
   "execution_count": 14,
   "id": "f0bed450-5df2-4760-a405-587b1044f590",
   "metadata": {},
   "outputs": [
    {
     "name": "stdout",
     "output_type": "stream",
     "text": [
      "20\n"
     ]
    }
   ],
   "source": [
    "#tamrin 4\n",
    "def fak(x):\n",
    "    c=x*(x-1)\n",
    "    print(c)\n",
    "fak(5)    "
   ]
  },
  {
   "cell_type": "code",
   "execution_count": null,
   "id": "4854e331-59ff-4174-8500-a42fe166a1cb",
   "metadata": {},
   "outputs": [],
   "source": []
  }
 ],
 "metadata": {
  "kernelspec": {
   "display_name": "Python 3 (ipykernel)",
   "language": "python",
   "name": "python3"
  },
  "language_info": {
   "codemirror_mode": {
    "name": "ipython",
    "version": 3
   },
   "file_extension": ".py",
   "mimetype": "text/x-python",
   "name": "python",
   "nbconvert_exporter": "python",
   "pygments_lexer": "ipython3",
   "version": "3.12.0"
  }
 },
 "nbformat": 4,
 "nbformat_minor": 5
}
