{
 "cells": [
  {
   "cell_type": "code",
   "execution_count": 6,
   "id": "37a5d63b-e195-4344-9f8f-93feea5452b1",
   "metadata": {},
   "outputs": [
    {
     "name": "stdout",
     "output_type": "stream",
     "text": [
      "0.9893582466233818\n"
     ]
    }
   ],
   "source": [
    "#tamrin1\n",
    "import math as m\n",
    "def si(x):\n",
    "    y=m.sin(x)\n",
    "    return y\n",
    "print((si(8)))"
   ]
  },
  {
   "cell_type": "code",
   "execution_count": 7,
   "id": "89fc416f-26fa-43d4-83fc-ee11396a2f95",
   "metadata": {},
   "outputs": [
    {
     "name": "stdout",
     "output_type": "stream",
     "text": [
      "0.29983284784312236\n"
     ]
    }
   ],
   "source": [
    "#tamrin2\n",
    "import math as m\n",
    "def sico(x,y):\n",
    "    z=m.sin(x)+m.cos(y)\n",
    "    return z\n",
    "print((sico(10,12)))"
   ]
  },
  {
   "cell_type": "code",
   "execution_count": 10,
   "id": "f3c95bea-3045-4931-aad3-54f204e41c0c",
   "metadata": {},
   "outputs": [
    {
     "name": "stdout",
     "output_type": "stream",
     "text": [
      "-0.34789286110689865\n"
     ]
    }
   ],
   "source": [
    "#tamrin3\n",
    "import math as m\n",
    "def sico(x,y):\n",
    "    z=(m.sin(x)/m.cos(x))*(m.sin(y))\n",
    "    return z\n",
    "print((sico(10,12)))"
   ]
  },
  {
   "cell_type": "code",
   "execution_count": 21,
   "id": "27b55ab1-1360-4eb1-9737-959ea0cab7f3",
   "metadata": {},
   "outputs": [
    {
     "name": "stdout",
     "output_type": "stream",
     "text": [
      "1.0\n"
     ]
    }
   ],
   "source": [
    "#tamrin4\n",
    "import math as m\n",
    "def d(x,y,t):\n",
    "    z=(x-y)/(t)\n",
    "    w=m.sqrt(z)\n",
    "    return w\n",
    "print((d(10,8,2)))"
   ]
  },
  {
   "cell_type": "code",
   "execution_count": 24,
   "id": "f7756091-d9f5-4951-a831-24694599de5a",
   "metadata": {},
   "outputs": [
    {
     "name": "stdout",
     "output_type": "stream",
     "text": [
      "-38\n"
     ]
    }
   ],
   "source": [
    "#tamrin5\n",
    "def d(x,a,h,y):\n",
    "    x=x-a*(2*(h-y))\n",
    "    return x\n",
    "print((d(10,8,5,2)))"
   ]
  },
  {
   "cell_type": "code",
   "execution_count": 27,
   "id": "585a5415-0c53-4e85-9ca1-c8c9ccc4a6ff",
   "metadata": {},
   "outputs": [
    {
     "name": "stdout",
     "output_type": "stream",
     "text": [
      "d\n",
      "a\n",
      "n\n",
      "i\n",
      "a\n",
      "l\n"
     ]
    }
   ],
   "source": [
    "#tamrin6\n",
    "d=\"danial\"\n",
    "for i in range (len(d)):\n",
    "    print(d[i])"
   ]
  },
  {
   "cell_type": "code",
   "execution_count": 97,
   "id": "ad6adaed-8d64-48c5-83e3-e2754fa2e450",
   "metadata": {},
   "outputs": [
    {
     "ename": "SyntaxError",
     "evalue": "invalid syntax (1577734600.py, line 9)",
     "output_type": "error",
     "traceback": [
      "\u001b[1;36m  Cell \u001b[1;32mIn[97], line 9\u001b[1;36m\u001b[0m\n\u001b[1;33m    print(/N)\u001b[0m\n\u001b[1;37m          ^\u001b[0m\n\u001b[1;31mSyntaxError\u001b[0m\u001b[1;31m:\u001b[0m invalid syntax\n"
     ]
    }
   ],
   "source": [
    "def re(x):\n",
    "    a=len(x)\n",
    "    b=a*-1\n",
    "    b=b-1\n",
    "    for i in range (len(x)):\n",
    "        print(x[i])\n",
    "        for y in range(-1,b,-1):\n",
    "            print(x[y])\n",
    "            #if(x[i]==x[y]):\n",
    "                #print('true')\n",
    "\n",
    "    #print(x[-1])\n",
    "\n",
    "\n",
    "re('aba')\n",
    "#(\"متاسفانه پروژه آخر را نتونستم انجام بدم سر کلاس مشکلاتم را میپرسم ازتون ممنون\")\n",
    "            \n",
    "            \n",
    "            "
   ]
  },
  {
   "cell_type": "code",
   "execution_count": null,
   "id": "06731a88-851c-41d5-84d3-3240639e7098",
   "metadata": {},
   "outputs": [],
   "source": []
  }
 ],
 "metadata": {
  "kernelspec": {
   "display_name": "Python 3 (ipykernel)",
   "language": "python",
   "name": "python3"
  },
  "language_info": {
   "codemirror_mode": {
    "name": "ipython",
    "version": 3
   },
   "file_extension": ".py",
   "mimetype": "text/x-python",
   "name": "python",
   "nbconvert_exporter": "python",
   "pygments_lexer": "ipython3",
   "version": "3.12.0"
  }
 },
 "nbformat": 4,
 "nbformat_minor": 5
}
