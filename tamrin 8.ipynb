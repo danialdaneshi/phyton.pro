{
 "cells": [
  {
   "cell_type": "code",
   "execution_count": 1,
   "id": "45688d54-477c-4299-b08a-3b33c1e975e0",
   "metadata": {},
   "outputs": [
    {
     "ename": "TypeError",
     "evalue": "'<' not supported between instances of 'int' and 'str'",
     "output_type": "error",
     "traceback": [
      "\u001b[1;31m---------------------------------------------------------------------------\u001b[0m",
      "\u001b[1;31mTypeError\u001b[0m                                 Traceback (most recent call last)",
      "Cell \u001b[1;32mIn[1], line 2\u001b[0m\n\u001b[0;32m      1\u001b[0m a\u001b[38;5;241m=\u001b[39m[\u001b[38;5;124m'\u001b[39m\u001b[38;5;124mdani\u001b[39m\u001b[38;5;124m'\u001b[39m,\u001b[38;5;241m10\u001b[39m,\u001b[38;5;241m8\u001b[39m,\u001b[38;5;241m7\u001b[39m,\u001b[38;5;124m'\u001b[39m\u001b[38;5;124mamir\u001b[39m\u001b[38;5;124m'\u001b[39m]\n\u001b[1;32m----> 2\u001b[0m \u001b[43ma\u001b[49m\u001b[38;5;241;43m.\u001b[39;49m\u001b[43msort\u001b[49m\u001b[43m(\u001b[49m\u001b[43m)\u001b[49m\n\u001b[0;32m      3\u001b[0m \u001b[38;5;28mprint\u001b[39m(a)\n",
      "\u001b[1;31mTypeError\u001b[0m: '<' not supported between instances of 'int' and 'str'"
     ]
    }
   ],
   "source": [
    "#tamrin 1\n",
    "a=['dani',10,8,7,'amir']\n",
    "a.sort()"
   ]
  },
  {
   "cell_type": "code",
   "execution_count": 6,
   "id": "97695a34-06d2-47f5-8b40-e537ac70d1ff",
   "metadata": {},
   "outputs": [
    {
     "ename": "AttributeError",
     "evalue": "'list' object has no attribute 'sum'",
     "output_type": "error",
     "traceback": [
      "\u001b[1;31m---------------------------------------------------------------------------\u001b[0m",
      "\u001b[1;31mAttributeError\u001b[0m                            Traceback (most recent call last)",
      "Cell \u001b[1;32mIn[6], line 2\u001b[0m\n\u001b[0;32m      1\u001b[0m a\u001b[38;5;241m=\u001b[39m[\u001b[38;5;124m'\u001b[39m\u001b[38;5;124mdani\u001b[39m\u001b[38;5;124m'\u001b[39m,\u001b[38;5;241m10\u001b[39m,\u001b[38;5;241m8\u001b[39m,\u001b[38;5;241m7\u001b[39m,\u001b[38;5;124m'\u001b[39m\u001b[38;5;124mamir\u001b[39m\u001b[38;5;124m'\u001b[39m]\n\u001b[1;32m----> 2\u001b[0m \u001b[43ma\u001b[49m\u001b[38;5;241;43m.\u001b[39;49m\u001b[43msum\u001b[49m()\n",
      "\u001b[1;31mAttributeError\u001b[0m: 'list' object has no attribute 'sum'"
     ]
    }
   ],
   "source": [
    "#tamrin 2\n",
    "a=['dani',10,8,7,'amir']\n",
    "a.sum()"
   ]
  },
  {
   "cell_type": "code",
   "execution_count": 32,
   "id": "c441f3c2-ffa6-4b87-9d8e-684d230d2f66",
   "metadata": {},
   "outputs": [
    {
     "name": "stdout",
     "output_type": "stream",
     "text": [
      "capital= ['D', 'X', 'Z', 'I'] small= ['a', 'm'] alamat= ['*', '+', '@']\n"
     ]
    }
   ],
   "source": [
    "#tamrin3\n",
    "x=\"a*DXZ+@mI\"\n",
    "a=[]\n",
    "s=[]\n",
    "d=[]\n",
    "for i in x:\n",
    "    if i.isupper():\n",
    "        a=a+[i]\n",
    "    elif i.islower():\n",
    "        s=s+[i]\n",
    "    else:\n",
    "        d=d+[i]\n",
    "\n",
    "print(\"capital=\",a,\"small=\",s,\"alamat=\",d)"
   ]
  },
  {
   "cell_type": "code",
   "execution_count": 12,
   "id": "a8d4f52c-9b86-41cc-b1ea-cf77932d1737",
   "metadata": {},
   "outputs": [],
   "source": [
    "#tamrin 4\n",
    "a=['dani',10,8,7,'amir']\n",
    "#for i in range(len(a)):\n",
    "    #a.pop(0)\n",
    "\n",
    "#for i in a:\n",
    "    #a.remove(i)\n",
    "\n",
    "#for i in range(len(a)):\n",
    "    #del a[i]\n"
   ]
  },
  {
   "cell_type": "code",
   "execution_count": 10,
   "id": "5b64001e-f8f5-4c7e-86cd-08526be31c78",
   "metadata": {},
   "outputs": [
    {
     "data": {
      "text/plain": [
       "False"
      ]
     },
     "execution_count": 10,
     "metadata": {},
     "output_type": "execute_result"
    }
   ],
   "source": [
    "#tamrin 5\n",
    "l1=[1,2,3]\n",
    "l2=[1,2,3]\n",
    "l1 is l2"
   ]
  },
  {
   "cell_type": "code",
   "execution_count": 15,
   "id": "a013e32f-d97e-4b48-b30e-dc7a3257407e",
   "metadata": {},
   "outputs": [
    {
     "data": {
      "text/plain": [
       "['dani', 10, 8, 7, 'amir', [1]]"
      ]
     },
     "execution_count": 15,
     "metadata": {},
     "output_type": "execute_result"
    }
   ],
   "source": [
    "#tamrin 6\n",
    "a=['dani',10,8,7,'amir']\n",
    "a.append([1])\n",
    "a"
   ]
  },
  {
   "cell_type": "code",
   "execution_count": 21,
   "id": "c9e32299-0e1a-4fda-8fe9-6f31218b5d48",
   "metadata": {},
   "outputs": [
    {
     "data": {
      "text/plain": [
       "[1, 4, 3, 6, 5, 8]"
      ]
     },
     "execution_count": 21,
     "metadata": {},
     "output_type": "execute_result"
    }
   ],
   "source": [
    "#tamrin 7\n",
    "a=[1,3,5]\n",
    "b=[4,6,8]\n",
    "c=[]\n",
    "for i,j in zip(a,b):\n",
    "    c=c+[i]+[j]\n",
    "c"
   ]
  },
  {
   "cell_type": "code",
   "execution_count": 22,
   "id": "ea37bf05-83d2-479d-ab3b-433849298737",
   "metadata": {},
   "outputs": [
    {
     "data": {
      "text/plain": [
       "['a', 'b', 'c', 'd', 'e', 'f']"
      ]
     },
     "execution_count": 22,
     "metadata": {},
     "output_type": "execute_result"
    }
   ],
   "source": [
    "#tamrin 8\n",
    "a=['a','c','e']\n",
    "b=['b','d','f']\n",
    "c=[]\n",
    "for i,j in zip(a,b):\n",
    "    c=c+[i]+[j]\n",
    "c"
   ]
  },
  {
   "cell_type": "code",
   "execution_count": 28,
   "id": "d023cae5-1abe-428f-b4ed-fae2e43300d9",
   "metadata": {},
   "outputs": [
    {
     "data": {
      "text/plain": [
       "8"
      ]
     },
     "execution_count": 28,
     "metadata": {},
     "output_type": "execute_result"
    }
   ],
   "source": [
    "#tamrin 9\n",
    "a=['dani',10,8,7,'amir']\n",
    "b=len(a)//2\n",
    "a.pop(b)"
   ]
  },
  {
   "cell_type": "code",
   "execution_count": 31,
   "id": "b2c7e328-b60c-4c6c-bf16-2b90a5c6f400",
   "metadata": {},
   "outputs": [
    {
     "data": {
      "text/plain": [
       "'daamirni'"
      ]
     },
     "execution_count": 31,
     "metadata": {},
     "output_type": "execute_result"
    }
   ],
   "source": [
    "#tamrin 10\n",
    "a='dani'\n",
    "b='amir'\n",
    "c=a[0:2]\n",
    "c=c+b\n",
    "c=c+a[2:4]\n",
    "c\n",
    "    \n"
   ]
  },
  {
   "cell_type": "code",
   "execution_count": null,
   "id": "7b0abc31-7160-4245-9226-2e400792b6f6",
   "metadata": {},
   "outputs": [],
   "source": []
  }
 ],
 "metadata": {
  "kernelspec": {
   "display_name": "Python 3 (ipykernel)",
   "language": "python",
   "name": "python3"
  },
  "language_info": {
   "codemirror_mode": {
    "name": "ipython",
    "version": 3
   },
   "file_extension": ".py",
   "mimetype": "text/x-python",
   "name": "python",
   "nbconvert_exporter": "python",
   "pygments_lexer": "ipython3",
   "version": "3.12.0"
  }
 },
 "nbformat": 4,
 "nbformat_minor": 5
}
