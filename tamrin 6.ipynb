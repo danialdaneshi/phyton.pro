{
 "cells": [
  {
   "cell_type": "code",
   "execution_count": 1,
   "id": "e4924953-7f91-4359-8b91-bb57303f6423",
   "metadata": {},
   "outputs": [
    {
     "name": "stdout",
     "output_type": "stream",
     "text": [
      "inad\n"
     ]
    }
   ],
   "source": [
    "#tamrin 1\n",
    "def x (a):\n",
    "    print(a[::-1])\n",
    "\n",
    "x(\"dani\")"
   ]
  },
  {
   "cell_type": "code",
   "execution_count": 5,
   "id": "43ea0c67-9ac5-4374-8f3e-31389f7193d3",
   "metadata": {},
   "outputs": [
    {
     "name": "stdout",
     "output_type": "stream",
     "text": [
      "3\n"
     ]
    }
   ],
   "source": [
    "#tamrin 2\n",
    "def x(a,b):\n",
    "    for i in range (len(a)):\n",
    "        if a[i]==b:\n",
    "            print(i)\n",
    "\n",
    "x(\"dani\",\"i\")"
   ]
  },
  {
   "cell_type": "code",
   "execution_count": 12,
   "id": "ffafe854-2814-4200-8ffd-56690cf041a8",
   "metadata": {},
   "outputs": [
    {
     "name": "stdout",
     "output_type": "stream",
     "text": [
      "a= 4 b= 2\n"
     ]
    }
   ],
   "source": [
    "#tamrin 3\n",
    "def x(y):\n",
    "    a=0\n",
    "    b=0\n",
    "    for i in y:\n",
    "        if i==(\"a\"):\n",
    "            a=a+1\n",
    "            \n",
    "        if i==(\"b\"):\n",
    "            b=b+1\n",
    "    print(\"a=\",a,\"b=\",b)\n",
    "\n",
    "x(\"baabaa\")\n",
    "            "
   ]
  },
  {
   "cell_type": "code",
   "execution_count": 18,
   "id": "742262ef-2b7f-4157-ad0f-b00863313e19",
   "metadata": {},
   "outputs": [
    {
     "name": "stdout",
     "output_type": "stream",
     "text": [
      "capital= DXZI small= am alamat= *+@\n"
     ]
    }
   ],
   "source": [
    "#tamrin 4\n",
    "x=\"a*DXZ+@mI\"\n",
    "a=\"\"\n",
    "s=\"\"\n",
    "d=\"\"\n",
    "for i in x:\n",
    "    if i.isupper():\n",
    "        a=a+i\n",
    "    elif i.islower():\n",
    "        s=s+i\n",
    "    else:\n",
    "        d=d+i\n",
    "\n",
    "print(\"capital=\",a,\"small=\",s,\"alamat=\",d)"
   ]
  },
  {
   "cell_type": "code",
   "execution_count": null,
   "id": "b9ab4c17-fe0d-4272-96e5-0eb398a69ffa",
   "metadata": {},
   "outputs": [],
   "source": []
  }
 ],
 "metadata": {
  "kernelspec": {
   "display_name": "Python 3 (ipykernel)",
   "language": "python",
   "name": "python3"
  },
  "language_info": {
   "codemirror_mode": {
    "name": "ipython",
    "version": 3
   },
   "file_extension": ".py",
   "mimetype": "text/x-python",
   "name": "python",
   "nbconvert_exporter": "python",
   "pygments_lexer": "ipython3",
   "version": "3.12.0"
  }
 },
 "nbformat": 4,
 "nbformat_minor": 5
}
