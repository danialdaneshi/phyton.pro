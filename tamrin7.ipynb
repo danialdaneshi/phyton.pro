{
 "cells": [
  {
   "cell_type": "code",
   "execution_count": 1,
   "id": "141c0653-8e36-4d1b-83d3-8a6b99ab3903",
   "metadata": {},
   "outputs": [
    {
     "data": {
      "text/plain": [
       "False"
      ]
     },
     "execution_count": 1,
     "metadata": {},
     "output_type": "execute_result"
    }
   ],
   "source": [
    "#tamrin1\n",
    "a=\"amin\"\n",
    "b=\"amir\"\n",
    "a>b"
   ]
  },
  {
   "cell_type": "code",
   "execution_count": 11,
   "id": "35354dc3-883a-46c4-b7f5-a1c5f212a62a",
   "metadata": {},
   "outputs": [
    {
     "name": "stdout",
     "output_type": "stream",
     "text": [
      "f\n"
     ]
    }
   ],
   "source": [
    "#tamrin2\n",
    "a='dani'\n",
    "b='danial'\n",
    "if len(a)<len(b):\n",
    "    print('f')"
   ]
  },
  {
   "cell_type": "code",
   "execution_count": 2,
   "id": "fa3e7200-ada9-4e4d-8ca2-f6600eff4efa",
   "metadata": {},
   "outputs": [
    {
     "name": "stdout",
     "output_type": "stream",
     "text": [
      "false\n"
     ]
    }
   ],
   "source": [
    "#tamrin3\n",
    "a=\"dani\"\n",
    "if \"a\" in a:\n",
    "    print(\"false\")"
   ]
  },
  {
   "cell_type": "code",
   "execution_count": 3,
   "id": "f8ec1367-8b99-4a31-805a-89de5c2a1637",
   "metadata": {},
   "outputs": [
    {
     "name": "stdout",
     "output_type": "stream",
     "text": [
      "dani\n",
      "12\n",
      "0.8\n",
      "hi\n"
     ]
    }
   ],
   "source": [
    "#tamrin4\n",
    "a=[\"dani\",12,0.8,\"hi\"]\n",
    "for i in a:\n",
    "    print(i)"
   ]
  },
  {
   "cell_type": "code",
   "execution_count": 8,
   "id": "d55c0fad-7716-46aa-9a5d-b9f65f9b0fed",
   "metadata": {},
   "outputs": [
    {
     "name": "stdout",
     "output_type": "stream",
     "text": [
      "hi\n",
      "0.8\n",
      "12\n",
      "dani\n"
     ]
    }
   ],
   "source": [
    "#tamrin5\n",
    "a=[\"dani\",12,0.8,\"hi\"]\n",
    "b=0\n",
    "for i in a:\n",
    "    b=b-1\n",
    "    print(a[b])\n",
    "    \n",
    "    "
   ]
  },
  {
   "cell_type": "code",
   "execution_count": 11,
   "id": "2a112397-3935-488e-8672-c6e75488cb6d",
   "metadata": {},
   "outputs": [
    {
     "name": "stdout",
     "output_type": "stream",
     "text": [
      "[2, 1, 3]\n"
     ]
    }
   ],
   "source": [
    "#tamrin6\n",
    "a=[7,2,1,10,3]\n",
    "d=[]\n",
    "b=0\n",
    "for i in range (len(a)):\n",
    "    \n",
    "    if a[b]>a[i]:\n",
    "        d=d+[a[i]]\n",
    "    while b==4:\n",
    "        b=i+1\n",
    "    \n",
    "print(d)\n",
    "#نتونستم جواب پیدا کنم\n",
    "        \n",
    "    \n",
    "    "
   ]
  },
  {
   "cell_type": "code",
   "execution_count": null,
   "id": "bdb0714b-7b98-4266-925d-6b93969c9bd4",
   "metadata": {},
   "outputs": [],
   "source": []
  }
 ],
 "metadata": {
  "kernelspec": {
   "display_name": "Python 3 (ipykernel)",
   "language": "python",
   "name": "python3"
  },
  "language_info": {
   "codemirror_mode": {
    "name": "ipython",
    "version": 3
   },
   "file_extension": ".py",
   "mimetype": "text/x-python",
   "name": "python",
   "nbconvert_exporter": "python",
   "pygments_lexer": "ipython3",
   "version": "3.12.0"
  }
 },
 "nbformat": 4,
 "nbformat_minor": 5
}
